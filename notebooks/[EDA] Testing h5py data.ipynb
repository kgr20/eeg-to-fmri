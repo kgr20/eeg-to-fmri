{
 "cells": [
  {
   "cell_type": "code",
   "execution_count": 1,
   "id": "658f637f-01f2-41ce-bba6-295a594f8aef",
   "metadata": {},
   "outputs": [],
   "source": [
    "import os\n",
    "import glob\n",
    "from pathlib import Path\n",
    "from typing import Tuple\n",
    "\n",
    "import h5py\n",
    "import numpy as np\n",
    "\n",
    "import seaborn as sns\n",
    "import matplotlib.pyplot as plt"
   ]
  },
  {
   "cell_type": "code",
   "execution_count": 26,
   "id": "c22a59ec-1134-4d3a-85e2-31653d1fb1e5",
   "metadata": {},
   "outputs": [],
   "source": [
    "def normalize_data(data: np.ndarray, scale_range: Tuple=None):\n",
    "    \"\"\"Normalize data to range [a, b]\"\"\"\n",
    "    # scale to range [0, 1] first\n",
    "    new_data = (data - data.min())/(data.max() - data.min())\n",
    "    # scale to range [a, b]\n",
    "    if scale_range is not None:\n",
    "        a, b = scale_range\n",
    "        assert a<=b, f'Invalid range: {scale_range}'\n",
    "        new_data = (b-a)*new_data + a\n",
    "        \n",
    "    return new_data"
   ]
  },
  {
   "cell_type": "code",
   "execution_count": 35,
   "id": "1bbb47dd-1894-45df-9b4b-83d209116ade",
   "metadata": {},
   "outputs": [],
   "source": [
    "data_dir = Path('/data2/quan/Datasets/EEG2fMRI/Kris/')"
   ]
  },
  {
   "cell_type": "code",
   "execution_count": 45,
   "id": "e0ef2fd6-6267-4711-be82-316048e50340",
   "metadata": {},
   "outputs": [],
   "source": [
    "# read data\n",
    "data_name = '02_eeg_fmri_data.h5'\n",
    "\n",
    "with h5py.File(data_dir/data_name, 'r') as f:\n",
    "    eeg_train = np.array(f['eeg_train'][:])\n",
    "    fmri_train = np.array(f['fmri_train'][:])\n",
    "    eeg_test = np.array(f['eeg_test'][:])\n",
    "    fmri_test = np.array(f['fmri_test'][:])"
   ]
  },
  {
   "cell_type": "code",
   "execution_count": 46,
   "id": "54a04c9a-3956-4a19-8097-4f4f512c7c63",
   "metadata": {},
   "outputs": [
    {
     "data": {
      "text/plain": [
       "(2041, 43, 269, 10, 1)"
      ]
     },
     "execution_count": 46,
     "metadata": {},
     "output_type": "execute_result"
    }
   ],
   "source": [
    "eeg_train.shape"
   ]
  },
  {
   "cell_type": "code",
   "execution_count": 47,
   "id": "a0463dd4-fada-453f-9691-f821631aba75",
   "metadata": {},
   "outputs": [
    {
     "data": {
      "text/plain": [
       "(2041, 43, 269, 10)"
      ]
     },
     "execution_count": 47,
     "metadata": {},
     "output_type": "execute_result"
    }
   ],
   "source": [
    "eeg_train[:, :, :, :, 0].shape"
   ]
  },
  {
   "cell_type": "code",
   "execution_count": 48,
   "id": "c816b3df-6be9-4859-9762-255f3f1384f6",
   "metadata": {},
   "outputs": [
    {
     "data": {
      "text/plain": [
       "(2041, 64, 64, 32, 1)"
      ]
     },
     "execution_count": 48,
     "metadata": {},
     "output_type": "execute_result"
    }
   ],
   "source": [
    "fmri_train.shape"
   ]
  },
  {
   "cell_type": "code",
   "execution_count": 49,
   "id": "d3c8adc1-59fb-41c9-84c8-5b7e743b8470",
   "metadata": {},
   "outputs": [
    {
     "data": {
      "text/plain": [
       "(628, 43, 269, 10, 1)"
      ]
     },
     "execution_count": 49,
     "metadata": {},
     "output_type": "execute_result"
    }
   ],
   "source": [
    "eeg_test.shape"
   ]
  },
  {
   "cell_type": "code",
   "execution_count": 50,
   "id": "b8eac6fb-9b7a-47d5-ade6-dceb34097a2e",
   "metadata": {},
   "outputs": [
    {
     "data": {
      "text/plain": [
       "(628, 64, 64, 32, 1)"
      ]
     },
     "execution_count": 50,
     "metadata": {},
     "output_type": "execute_result"
    }
   ],
   "source": [
    "fmri_test.shape"
   ]
  },
  {
   "cell_type": "markdown",
   "id": "1a4e8252-29b9-45c9-9eef-478b74b86d49",
   "metadata": {},
   "source": [
    "### Save new h5 file"
   ]
  },
  {
   "cell_type": "code",
   "execution_count": 51,
   "id": "b63589ee-a28f-4f51-aa5c-97ad53893c2c",
   "metadata": {},
   "outputs": [],
   "source": [
    "hf = h5py.File(data_dir/'02_eeg_fmri_data_new.h5', 'w')"
   ]
  },
  {
   "cell_type": "code",
   "execution_count": 52,
   "id": "565530c2-4634-4ecd-9ee1-5058a92e9572",
   "metadata": {},
   "outputs": [],
   "source": [
    "hf.create_dataset('eeg_train', data=eeg_train[:, :, :, :, 0], compression=\"gzip\", compression_opts=9)\n",
    "hf.create_dataset('fmri_train', data=fmri_train[:, :, :, :, 0], compression=\"gzip\", compression_opts=9)\n",
    "\n",
    "hf.create_dataset('eeg_test', data=eeg_test[:, :, :, :, 0], compression=\"gzip\", compression_opts=9)\n",
    "hf.create_dataset('fmri_test', data=fmri_test[:, :, :, :, 0], compression=\"gzip\", compression_opts=9)\n",
    "\n",
    "hf.close()"
   ]
  },
  {
   "cell_type": "markdown",
   "id": "f31a6b4f-7a00-433e-a07c-ca8dc2773dfd",
   "metadata": {},
   "source": [
    "### Test read new data"
   ]
  },
  {
   "cell_type": "code",
   "execution_count": 40,
   "id": "77f40671-fde8-4778-b832-714af12d0927",
   "metadata": {},
   "outputs": [],
   "source": [
    "# read data\n",
    "data_name = '01_eeg_fmri_data_new.h5'\n",
    "\n",
    "with h5py.File(data_dir/data_name, 'r') as f:\n",
    "    eeg_train = np.array(f['eeg_train'][:])\n",
    "    fmri_train = np.array(f['fmri_train'][:])\n",
    "    eeg_test = np.array(f['eeg_test'][:])\n",
    "    fmri_test = np.array(f['fmri_test'][:])"
   ]
  },
  {
   "cell_type": "code",
   "execution_count": 44,
   "id": "7d44bc1a-4bad-4be9-a720-1fcf7fd76875",
   "metadata": {},
   "outputs": [
    {
     "data": {
      "text/plain": [
       "(861, 64, 64, 30)"
      ]
     },
     "execution_count": 44,
     "metadata": {},
     "output_type": "execute_result"
    }
   ],
   "source": [
    "fmri_test.shape"
   ]
  },
  {
   "cell_type": "code",
   "execution_count": null,
   "id": "01edb8df-7f25-4928-9337-f58241b32531",
   "metadata": {},
   "outputs": [],
   "source": []
  }
 ],
 "metadata": {
  "kernelspec": {
   "display_name": "Python 3 (ipykernel)",
   "language": "python",
   "name": "python3"
  },
  "language_info": {
   "codemirror_mode": {
    "name": "ipython",
    "version": 3
   },
   "file_extension": ".py",
   "mimetype": "text/x-python",
   "name": "python",
   "nbconvert_exporter": "python",
   "pygments_lexer": "ipython3",
   "version": "3.9.19"
  }
 },
 "nbformat": 4,
 "nbformat_minor": 5
}
