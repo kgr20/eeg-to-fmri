{
 "cells": [
  {
   "cell_type": "code",
   "execution_count": 1,
   "id": "658f637f-01f2-41ce-bba6-295a594f8aef",
   "metadata": {},
   "outputs": [],
   "source": [
    "import os\n",
    "import glob\n",
    "from pathlib import Path\n",
    "\n",
    "import h5py\n",
    "import numpy as np\n",
    "\n",
    "import matplotlib.pyplot as plt"
   ]
  },
  {
   "cell_type": "code",
   "execution_count": 2,
   "id": "1bbb47dd-1894-45df-9b4b-83d209116ade",
   "metadata": {},
   "outputs": [],
   "source": [
    "data_path = '/Users/quancap/Downloads/01_eeg_fmri_data.h5'"
   ]
  },
  {
   "cell_type": "code",
   "execution_count": 3,
   "id": "e0ef2fd6-6267-4711-be82-316048e50340",
   "metadata": {},
   "outputs": [],
   "source": [
    "# read data\n",
    "with h5py.File(data_path, 'r') as f:\n",
    "    eeg_train = np.array(f['eeg_train'][:])\n",
    "    fmri_train = np.array(f['fmri_train'][:])\n",
    "    eeg_test = np.array(f['eeg_test'][:])\n",
    "    fmri_test = np.array(f['fmri_test'][:])"
   ]
  },
  {
   "cell_type": "code",
   "execution_count": 4,
   "id": "54a04c9a-3956-4a19-8097-4f4f512c7c63",
   "metadata": {},
   "outputs": [
    {
     "data": {
      "text/plain": [
       "(3731, 64, 269, 10, 1)"
      ]
     },
     "execution_count": 4,
     "metadata": {},
     "output_type": "execute_result"
    }
   ],
   "source": [
    "eeg_train.shape"
   ]
  },
  {
   "cell_type": "code",
   "execution_count": 5,
   "id": "a47e1864-0102-46fd-91c1-f9857810abf9",
   "metadata": {},
   "outputs": [
    {
     "data": {
      "text/plain": [
       "(3731, 64, 64, 30, 1)"
      ]
     },
     "execution_count": 5,
     "metadata": {},
     "output_type": "execute_result"
    }
   ],
   "source": [
    "fmri_train.shape"
   ]
  },
  {
   "cell_type": "code",
   "execution_count": null,
   "id": "b260a4a5-76b0-4056-a62d-9620cd2b9871",
   "metadata": {},
   "outputs": [],
   "source": []
  }
 ],
 "metadata": {
  "kernelspec": {
   "display_name": "Python 3 (ipykernel)",
   "language": "python",
   "name": "python3"
  },
  "language_info": {
   "codemirror_mode": {
    "name": "ipython",
    "version": 3
   },
   "file_extension": ".py",
   "mimetype": "text/x-python",
   "name": "python",
   "nbconvert_exporter": "python",
   "pygments_lexer": "ipython3",
   "version": "3.9.19"
  }
 },
 "nbformat": 4,
 "nbformat_minor": 5
}
