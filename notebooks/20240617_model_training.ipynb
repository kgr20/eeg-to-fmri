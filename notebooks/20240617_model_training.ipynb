{
 "cells": [
  {
   "cell_type": "code",
   "execution_count": 2,
   "id": "37767430-0c2f-46d6-bca6-63e647116dae",
   "metadata": {},
   "outputs": [],
   "source": [
    "test = 1 + 2"
   ]
  },
  {
   "cell_type": "code",
   "execution_count": 4,
   "id": "2bdcbcc8-9309-40e1-b0be-6afd8b4b184c",
   "metadata": {},
   "outputs": [
    {
     "name": "stdout",
     "output_type": "stream",
     "text": [
      "the answer is 3\n"
     ]
    }
   ],
   "source": [
    "print(f\"the answer is {test}\")"
   ]
  },
  {
   "cell_type": "code",
   "execution_count": null,
   "id": "49651775-63c3-4b54-8e5e-5bb2b51a4e7b",
   "metadata": {},
   "outputs": [],
   "source": []
  }
 ],
 "metadata": {
  "kernelspec": {
   "display_name": "Python 3 (ipykernel)",
   "language": "python",
   "name": "python3"
  },
  "language_info": {
   "codemirror_mode": {
    "name": "ipython",
    "version": 3
   },
   "file_extension": ".py",
   "mimetype": "text/x-python",
   "name": "python",
   "nbconvert_exporter": "python",
   "pygments_lexer": "ipython3",
   "version": "3.8.19"
  }
 },
 "nbformat": 4,
 "nbformat_minor": 5
}
