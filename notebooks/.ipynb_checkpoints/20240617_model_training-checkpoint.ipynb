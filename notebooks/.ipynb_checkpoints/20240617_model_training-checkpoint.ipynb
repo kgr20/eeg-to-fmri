{
 "cells": [
  {
   "cell_type": "code",
   "execution_count": 2,
   "id": "37767430-0c2f-46d6-bca6-63e647116dae",
   "metadata": {},
   "outputs": [],
   "source": [
    "test = 1 + 1"
   ]
  },
  {
   "cell_type": "code",
   "execution_count": 3,
   "id": "2bdcbcc8-9309-40e1-b0be-6afd8b4b184c",
   "metadata": {},
   "outputs": [
    {
     "name": "stdout",
     "output_type": "stream",
     "text": [
      "2\n"
     ]
    }
   ],
   "source": [
    "print(test)"
   ]
  }
 ],
 "metadata": {
  "kernelspec": {
   "display_name": "Python 3 (ipykernel)",
   "language": "python",
   "name": "python3"
  },
  "language_info": {
   "codemirror_mode": {
    "name": "ipython",
    "version": 3
   },
   "file_extension": ".py",
   "mimetype": "text/x-python",
   "name": "python",
   "nbconvert_exporter": "python",
   "pygments_lexer": "ipython3",
   "version": "3.8.19"
  }
 },
 "nbformat": 4,
 "nbformat_minor": 5
}
